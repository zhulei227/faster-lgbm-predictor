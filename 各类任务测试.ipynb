{
 "cells": [
  {
   "cell_type": "code",
   "execution_count": 1,
   "id": "e7d60e5b",
   "metadata": {},
   "outputs": [],
   "source": [
    "import pandas as pd\n",
    "import numpy as np\n",
    "import lightgbm as lgb\n",
    "from faster_lgbm_predictor import FasterLgbmPredictor"
   ]
  },
  {
   "cell_type": "markdown",
   "id": "c92aa8da",
   "metadata": {},
   "source": [
    "### 1.加载数据"
   ]
  },
  {
   "cell_type": "code",
   "execution_count": 2,
   "id": "3d50b6c5",
   "metadata": {},
   "outputs": [],
   "source": [
    "df=pd.read_csv(\"./data/train.csv\")"
   ]
  },
  {
   "cell_type": "code",
   "execution_count": 3,
   "id": "e618b87e",
   "metadata": {},
   "outputs": [],
   "source": [
    "del df[\"PassengerId\"]\n",
    "del df[\"Name\"]\n",
    "del df[\"Sex\"]\n",
    "del df[\"Ticket\"]\n",
    "del df[\"Cabin\"]\n",
    "del df[\"Embarked\"]"
   ]
  },
  {
   "cell_type": "code",
   "execution_count": 4,
   "id": "61c1521a",
   "metadata": {},
   "outputs": [
    {
     "data": {
      "text/html": [
       "<div>\n",
       "<style scoped>\n",
       "    .dataframe tbody tr th:only-of-type {\n",
       "        vertical-align: middle;\n",
       "    }\n",
       "\n",
       "    .dataframe tbody tr th {\n",
       "        vertical-align: top;\n",
       "    }\n",
       "\n",
       "    .dataframe thead th {\n",
       "        text-align: right;\n",
       "    }\n",
       "</style>\n",
       "<table border=\"1\" class=\"dataframe\">\n",
       "  <thead>\n",
       "    <tr style=\"text-align: right;\">\n",
       "      <th></th>\n",
       "      <th>Survived</th>\n",
       "      <th>Pclass</th>\n",
       "      <th>Age</th>\n",
       "      <th>SibSp</th>\n",
       "      <th>Parch</th>\n",
       "      <th>Fare</th>\n",
       "    </tr>\n",
       "  </thead>\n",
       "  <tbody>\n",
       "    <tr>\n",
       "      <th>0</th>\n",
       "      <td>0</td>\n",
       "      <td>3</td>\n",
       "      <td>22.0</td>\n",
       "      <td>1</td>\n",
       "      <td>0</td>\n",
       "      <td>7.2500</td>\n",
       "    </tr>\n",
       "    <tr>\n",
       "      <th>1</th>\n",
       "      <td>1</td>\n",
       "      <td>1</td>\n",
       "      <td>38.0</td>\n",
       "      <td>1</td>\n",
       "      <td>0</td>\n",
       "      <td>71.2833</td>\n",
       "    </tr>\n",
       "    <tr>\n",
       "      <th>2</th>\n",
       "      <td>1</td>\n",
       "      <td>3</td>\n",
       "      <td>26.0</td>\n",
       "      <td>0</td>\n",
       "      <td>0</td>\n",
       "      <td>7.9250</td>\n",
       "    </tr>\n",
       "    <tr>\n",
       "      <th>3</th>\n",
       "      <td>1</td>\n",
       "      <td>1</td>\n",
       "      <td>35.0</td>\n",
       "      <td>1</td>\n",
       "      <td>0</td>\n",
       "      <td>53.1000</td>\n",
       "    </tr>\n",
       "    <tr>\n",
       "      <th>4</th>\n",
       "      <td>0</td>\n",
       "      <td>3</td>\n",
       "      <td>35.0</td>\n",
       "      <td>0</td>\n",
       "      <td>0</td>\n",
       "      <td>8.0500</td>\n",
       "    </tr>\n",
       "  </tbody>\n",
       "</table>\n",
       "</div>"
      ],
      "text/plain": [
       "   Survived  Pclass   Age  SibSp  Parch     Fare\n",
       "0         0       3  22.0      1      0   7.2500\n",
       "1         1       1  38.0      1      0  71.2833\n",
       "2         1       3  26.0      0      0   7.9250\n",
       "3         1       1  35.0      1      0  53.1000\n",
       "4         0       3  35.0      0      0   8.0500"
      ]
     },
     "execution_count": 4,
     "metadata": {},
     "output_type": "execute_result"
    }
   ],
   "source": [
    "df=df.fillna(0)\n",
    "df.head(5)"
   ]
  },
  {
   "cell_type": "code",
   "execution_count": 5,
   "id": "29878356",
   "metadata": {},
   "outputs": [],
   "source": [
    "target=df[\"Survived\"].values\n",
    "del df[\"Survived\"]"
   ]
  },
  {
   "cell_type": "code",
   "execution_count": 6,
   "id": "4fd7250f",
   "metadata": {},
   "outputs": [],
   "source": [
    "categorical_features=[\"Pclass\",\"SibSp\",\"Parch\"]"
   ]
  },
  {
   "cell_type": "markdown",
   "id": "561a1794",
   "metadata": {},
   "source": [
    "### 2.1 二分类测试"
   ]
  },
  {
   "cell_type": "code",
   "execution_count": 7,
   "id": "6a22b4fc",
   "metadata": {},
   "outputs": [
    {
     "name": "stdout",
     "output_type": "stream",
     "text": [
      "[LightGBM] [Info] Number of positive: 342, number of negative: 549\n",
      "[LightGBM] [Warning] Auto-choosing row-wise multi-threading, the overhead of testing was 0.000230 seconds.\n",
      "You can set `force_row_wise=true` to remove the overhead.\n",
      "And if memory is not enough, you can set `force_col_wise=true`.\n",
      "[LightGBM] [Info] Total Bins 216\n",
      "[LightGBM] [Info] Number of data points in the train set: 891, number of used features: 5\n",
      "[LightGBM] [Info] [binary:BoostFromScore]: pavg=0.383838 -> initscore=-0.473288\n",
      "[LightGBM] [Info] Start training from score -0.473288\n"
     ]
    },
    {
     "name": "stderr",
     "output_type": "stream",
     "text": [
      "D:\\apps\\Anaconda3\\lib\\site-packages\\lightgbm\\basic.py:2065: UserWarning: Using categorical_feature in Dataset.\n",
      "  _log_warning('Using categorical_feature in Dataset.')\n"
     ]
    }
   ],
   "source": [
    "params={\"objective\":\"binary\",\"max_depth\":2}\n",
    "lgb_model=lgb.train(params=params,train_set=lgb.Dataset(data=df,label=target,categorical_feature=categorical_features),num_boost_round=16)"
   ]
  },
  {
   "cell_type": "code",
   "execution_count": 8,
   "id": "869985e3",
   "metadata": {},
   "outputs": [],
   "source": [
    "faster_lgbm_predictor=FasterLgbmPredictor(model=lgb_model.dump_model(),cache_num=10)"
   ]
  },
  {
   "cell_type": "code",
   "execution_count": 9,
   "id": "7b379566",
   "metadata": {},
   "outputs": [],
   "source": [
    "ori_pred=lgb_model.predict(df)"
   ]
  },
  {
   "cell_type": "code",
   "execution_count": 10,
   "id": "37d35944",
   "metadata": {},
   "outputs": [],
   "source": [
    "fast_pred=[]\n",
    "for input_data in df.to_dict(\"records\"):\n",
    "    fast_pred.append(faster_lgbm_predictor.predict(input_data).get(\"score\"))\n",
    "fast_pred=np.asarray(fast_pred)"
   ]
  },
  {
   "cell_type": "code",
   "execution_count": 11,
   "id": "54f7b9f7",
   "metadata": {},
   "outputs": [
    {
     "data": {
      "text/plain": [
       "0.0"
      ]
     },
     "execution_count": 11,
     "metadata": {},
     "output_type": "execute_result"
    }
   ],
   "source": [
    "np.sum(np.abs(fast_pred-ori_pred))"
   ]
  },
  {
   "cell_type": "markdown",
   "id": "4b01fbe5",
   "metadata": {},
   "source": [
    "### 2.2 回归测试"
   ]
  },
  {
   "cell_type": "code",
   "execution_count": 12,
   "id": "78c8b061",
   "metadata": {},
   "outputs": [
    {
     "name": "stdout",
     "output_type": "stream",
     "text": [
      "[LightGBM] [Warning] Auto-choosing col-wise multi-threading, the overhead of testing was 0.000261 seconds.\n",
      "You can set `force_col_wise=true` to remove the overhead.\n",
      "[LightGBM] [Info] Total Bins 216\n",
      "[LightGBM] [Info] Number of data points in the train set: 891, number of used features: 5\n",
      "[LightGBM] [Info] Start training from score 0.383838\n"
     ]
    }
   ],
   "source": [
    "params={\"objective\":\"regression\",\"max_depth\":2}\n",
    "lgb_model=lgb.train(params=params,train_set=lgb.Dataset(data=df,label=target,categorical_feature=categorical_features),num_boost_round=16)"
   ]
  },
  {
   "cell_type": "code",
   "execution_count": 13,
   "id": "8c98566a",
   "metadata": {},
   "outputs": [],
   "source": [
    "faster_lgbm_predictor=FasterLgbmPredictor(model=lgb_model.dump_model(),cache_num=10)"
   ]
  },
  {
   "cell_type": "code",
   "execution_count": 14,
   "id": "50cce13b",
   "metadata": {},
   "outputs": [],
   "source": [
    "ori_pred=lgb_model.predict(df)"
   ]
  },
  {
   "cell_type": "code",
   "execution_count": 15,
   "id": "647c694d",
   "metadata": {},
   "outputs": [],
   "source": [
    "fast_pred=[]\n",
    "for input_data in df.to_dict(\"records\"):\n",
    "    fast_pred.append(faster_lgbm_predictor.predict(input_data).get(\"score\"))\n",
    "fast_pred=np.asarray(fast_pred)"
   ]
  },
  {
   "cell_type": "code",
   "execution_count": 16,
   "id": "e7c0c21b",
   "metadata": {},
   "outputs": [
    {
     "data": {
      "text/plain": [
       "0.0"
      ]
     },
     "execution_count": 16,
     "metadata": {},
     "output_type": "execute_result"
    }
   ],
   "source": [
    "np.sum(np.abs(fast_pred-ori_pred))"
   ]
  },
  {
   "cell_type": "markdown",
   "id": "b0650fc8",
   "metadata": {},
   "source": [
    "### 2.3 指数分布回归测试¶"
   ]
  },
  {
   "cell_type": "code",
   "execution_count": 17,
   "id": "47ed1c01",
   "metadata": {},
   "outputs": [
    {
     "name": "stdout",
     "output_type": "stream",
     "text": [
      "[LightGBM] [Warning] Auto-choosing row-wise multi-threading, the overhead of testing was 0.001495 seconds.\n",
      "You can set `force_row_wise=true` to remove the overhead.\n",
      "And if memory is not enough, you can set `force_col_wise=true`.\n",
      "[LightGBM] [Info] Total Bins 216\n",
      "[LightGBM] [Info] Number of data points in the train set: 891, number of used features: 5\n",
      "[LightGBM] [Info] Start training from score -0.957534\n"
     ]
    }
   ],
   "source": [
    "params={\"objective\":\"tweedie\",\"max_depth\":2}\n",
    "lgb_model=lgb.train(params=params,train_set=lgb.Dataset(df,target,categorical_feature=categorical_features),num_boost_round=16)"
   ]
  },
  {
   "cell_type": "code",
   "execution_count": 18,
   "id": "e83386a8",
   "metadata": {},
   "outputs": [],
   "source": [
    "faster_lgbm_predictor=FasterLgbmPredictor(model=lgb_model.dump_model(),cache_num=10)"
   ]
  },
  {
   "cell_type": "code",
   "execution_count": 19,
   "id": "9fa0b349",
   "metadata": {},
   "outputs": [],
   "source": [
    "ori_pred=lgb_model.predict(df)"
   ]
  },
  {
   "cell_type": "code",
   "execution_count": 20,
   "id": "c4a50228",
   "metadata": {},
   "outputs": [],
   "source": [
    "fast_pred=[]\n",
    "for input_data in df.to_dict(\"records\"):\n",
    "    fast_pred.append(faster_lgbm_predictor.predict(input_data).get(\"score\"))\n",
    "fast_pred=np.asarray(fast_pred)"
   ]
  },
  {
   "cell_type": "code",
   "execution_count": 21,
   "id": "70021808",
   "metadata": {},
   "outputs": [
    {
     "data": {
      "text/plain": [
       "0.0"
      ]
     },
     "execution_count": 21,
     "metadata": {},
     "output_type": "execute_result"
    }
   ],
   "source": [
    "np.sum(np.abs(fast_pred-ori_pred))"
   ]
  },
  {
   "cell_type": "markdown",
   "id": "62dc6571",
   "metadata": {},
   "source": [
    "### 性能对比"
   ]
  },
  {
   "cell_type": "code",
   "execution_count": 22,
   "id": "ae4c3f0c",
   "metadata": {},
   "outputs": [],
   "source": [
    "from tqdm import tqdm"
   ]
  },
  {
   "cell_type": "code",
   "execution_count": 23,
   "id": "4f2c43fd",
   "metadata": {},
   "outputs": [
    {
     "name": "stderr",
     "output_type": "stream",
     "text": [
      "100%|██████████████████████████████████████████████████████████████████████████████| 891/891 [00:00<00:00, 5431.20it/s]\n"
     ]
    }
   ],
   "source": [
    "new_data=df.to_dict(\"records\")\n",
    "for data in tqdm(new_data):\n",
    "    faster_lgbm_predictor.predict(data)"
   ]
  },
  {
   "cell_type": "code",
   "execution_count": 24,
   "id": "0b78ca6a",
   "metadata": {},
   "outputs": [
    {
     "name": "stderr",
     "output_type": "stream",
     "text": [
      "100%|██████████████████████████████████████████████████████████████████████████████| 891/891 [00:00<00:00, 1240.67it/s]\n"
     ]
    }
   ],
   "source": [
    "new_data=[]\n",
    "for i in list(range(len(df))):\n",
    "    new_data.append(df[i:i+1])\n",
    "for data in tqdm(new_data):\n",
    "    lgb_model.predict(data)"
   ]
  },
  {
   "cell_type": "code",
   "execution_count": null,
   "id": "1ce20ce5",
   "metadata": {},
   "outputs": [],
   "source": []
  }
 ],
 "metadata": {
  "kernelspec": {
   "display_name": "Python 3",
   "language": "python",
   "name": "python3"
  },
  "language_info": {
   "codemirror_mode": {
    "name": "ipython",
    "version": 3
   },
   "file_extension": ".py",
   "mimetype": "text/x-python",
   "name": "python",
   "nbconvert_exporter": "python",
   "pygments_lexer": "ipython3",
   "version": "3.8.8"
  }
 },
 "nbformat": 4,
 "nbformat_minor": 5
}
